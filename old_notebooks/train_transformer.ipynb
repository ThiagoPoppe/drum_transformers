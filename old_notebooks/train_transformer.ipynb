{
 "cells": [
  {
   "cell_type": "code",
   "execution_count": 1,
   "metadata": {},
   "outputs": [],
   "source": [
    "import re\n",
    "import os\n",
    "import torch\n",
    "import shutil\n",
    "import warnings\n",
    "\n",
    "import librosa\n",
    "import mir_eval\n",
    "import numpy as np\n",
    "import torch.nn as nn\n",
    "import torch.optim as optim\n",
    "\n",
    "from glob import glob\n",
    "from tqdm import tqdm\n",
    "from os.path import join as ospj\n",
    "\n",
    "from torch.utils.data import DataLoader\n",
    "from sklearn.model_selection import train_test_split\n",
    "\n",
    "from transcription.globals import BASEPATH\n",
    "from transcription.globals import SAMPLING_RATE\n",
    "from transcription.dataloaders import TranscriptionDataset\n",
    "\n",
    "from transcription.preprocessing import chunkify\n",
    "from transcription.preprocessing import create_feature_and_annotation\n",
    "\n",
    "from bs4.builder import XMLParsedAsHTMLWarning\n",
    "warnings.filterwarnings('ignore', category=XMLParsedAsHTMLWarning)"
   ]
  },
  {
   "cell_type": "code",
   "execution_count": 2,
   "metadata": {},
   "outputs": [
    {
     "name": "stdout",
     "output_type": "stream",
     "text": [
      "Running on device: cuda:0\n"
     ]
    }
   ],
   "source": [
    "'''\n",
    "    If things aren't running, try making the following command to copy the data locally:\n",
    "        rsync -a /storage/datasets/IDMT-SMT-Drums /ssd/<your-user>/\n",
    "'''\n",
    "songnames = os.listdir(ospj(BASEPATH, 'audio/'))\n",
    "songnames = list(map(lambda filename: filename.split('.')[0], songnames))\n",
    "\n",
    "has_gpu = torch.cuda.is_available()\n",
    "device = torch.device('cuda:0' if has_gpu else 'cpu')\n",
    "\n",
    "print('Running on device:', device)"
   ]
  },
  {
   "cell_type": "markdown",
   "metadata": {},
   "source": [
    "## Chunkifying sequences"
   ]
  },
  {
   "cell_type": "markdown",
   "metadata": {},
   "source": [
    "#### Creating required folders"
   ]
  },
  {
   "cell_type": "code",
   "execution_count": 3,
   "metadata": {},
   "outputs": [
    {
     "name": "stdout",
     "output_type": "stream",
     "text": [
      "Deleting chunks folder...\n"
     ]
    }
   ],
   "source": [
    "if os.path.exists(ospj(BASEPATH, 'chunks')):\n",
    "    print('Deleting chunks folder...')\n",
    "    shutil.rmtree(ospj(BASEPATH, 'chunks'))\n",
    "\n",
    "os.makedirs(ospj(BASEPATH, 'chunks'), exist_ok=True)\n",
    "os.makedirs(ospj(BASEPATH, 'chunks/train'), exist_ok=True)\n",
    "os.makedirs(ospj(BASEPATH, 'chunks/validation'), exist_ok=True)"
   ]
  },
  {
   "cell_type": "markdown",
   "metadata": {},
   "source": [
    "#### Splitting data into train and validation"
   ]
  },
  {
   "cell_type": "code",
   "execution_count": 4,
   "metadata": {},
   "outputs": [],
   "source": [
    "def get_songname_type(songname):\n",
    "    pattern = re.compile(r'([a-zA-Z]+)')\n",
    "    matches = pattern.search(songname)\n",
    "    \n",
    "    # Returns songname type (RealDrum, WaveDrum or TechnoDrum)\n",
    "    return matches.group(1)\n",
    "\n",
    "songname_types = list(map(get_songname_type, songnames))\n",
    "train_songnames, validation_songnames = train_test_split(songnames, test_size=0.2, random_state=42, stratify=songname_types)"
   ]
  },
  {
   "cell_type": "markdown",
   "metadata": {},
   "source": [
    "#### Splitting data into multiple chunks"
   ]
  },
  {
   "cell_type": "code",
   "execution_count": 5,
   "metadata": {},
   "outputs": [
    {
     "name": "stdout",
     "output_type": "stream",
     "text": [
      "Splitting train data...\n"
     ]
    },
    {
     "name": "stderr",
     "output_type": "stream",
     "text": [
      "100%|██████████| 76/76 [00:06<00:00, 11.30it/s]\n"
     ]
    },
    {
     "name": "stdout",
     "output_type": "stream",
     "text": [
      "Splitting validation data...\n"
     ]
    },
    {
     "name": "stderr",
     "output_type": "stream",
     "text": [
      "100%|██████████| 19/19 [00:01<00:00, 11.92it/s]\n"
     ]
    }
   ],
   "source": [
    "chunkify_hyperparameters = {'window_size': 512, 'hop_length': 32}\n",
    "\n",
    "print('Splitting train data...')\n",
    "for songname in tqdm(train_songnames):\n",
    "    for chunk_id, (spec, annotation) in enumerate(chunkify(songname, **chunkify_hyperparameters)):\n",
    "        filename = songname + f'_part{chunk_id:03d}'\n",
    "        filename = ospj(BASEPATH, f'chunks/train/{filename}')\n",
    "        np.savez(filename, spec=spec, annotation=annotation)\n",
    "        \n",
    "print('Splitting validation data...')\n",
    "for songname in tqdm(validation_songnames):\n",
    "    for chunk_id, (spec, annotation) in enumerate(chunkify(songname, **chunkify_hyperparameters)):\n",
    "        filename = songname + f'_part{chunk_id:03d}'\n",
    "        filename = ospj(BASEPATH, f'chunks/validation/{filename}')\n",
    "        np.savez(filename, spec=spec, annotation=annotation)"
   ]
  },
  {
   "cell_type": "markdown",
   "metadata": {},
   "source": [
    "## Training Neural Network (*Transformer*)"
   ]
  },
  {
   "cell_type": "markdown",
   "metadata": {},
   "source": [
    "#### Computing class imbalance weights in training set\n",
    "- Class weights computed following the suggestions on the [PyTorch's BCEWithLogitsLoss webpage](https://pytorch.org/docs/stable/generated/torch.nn.BCEWithLogitsLoss.html#torch.nn.BCEWithLogitsLoss)."
   ]
  },
  {
   "cell_type": "code",
   "execution_count": 6,
   "metadata": {},
   "outputs": [
    {
     "name": "stderr",
     "output_type": "stream",
     "text": [
      "100%|██████████| 1881/1881 [00:00<00:00, 2256.24it/s]\n"
     ]
    },
    {
     "name": "stdout",
     "output_type": "stream",
     "text": [
      "Class weights: tensor([26.5478, 74.0407, 52.0180], device='cuda:0', dtype=torch.float64)\n"
     ]
    }
   ],
   "source": [
    "total_frames = 0\n",
    "presence_counter = np.zeros(3)\n",
    "\n",
    "for filename in tqdm(glob(ospj(BASEPATH, 'chunks/train/*.npz'))):\n",
    "    data = np.load(filename)\n",
    "    total_frames += data['annotation'].shape[1]\n",
    "    presence_counter += (data['annotation'] == 1).sum(axis=1)\n",
    "\n",
    "pos_weight = torch.from_numpy((total_frames - presence_counter) / presence_counter).to(device)\n",
    "print('Class weights:', pos_weight)"
   ]
  },
  {
   "cell_type": "markdown",
   "metadata": {},
   "source": [
    "#### Defining DataLoaders"
   ]
  },
  {
   "cell_type": "code",
   "execution_count": 7,
   "metadata": {},
   "outputs": [],
   "source": [
    "batch_size = 16\n",
    "\n",
    "train_dataloader = DataLoader(TranscriptionDataset(is_train=True), batch_size, shuffle=True)\n",
    "validation_dataloader = DataLoader(TranscriptionDataset(is_train=False), batch_size, shuffle=False)"
   ]
  },
  {
   "cell_type": "code",
   "execution_count": 8,
   "metadata": {},
   "outputs": [
    {
     "data": {
      "text/plain": [
       "(torch.Size([8, 512, 128]), torch.Size([8, 512, 3]))"
      ]
     },
     "execution_count": 8,
     "metadata": {},
     "output_type": "execute_result"
    }
   ],
   "source": [
    "# Checking if DataLoader output has correct shape\n",
    "for X, y in train_dataloader:\n",
    "    break\n",
    "\n",
    "X.shape, y.shape"
   ]
  },
  {
   "cell_type": "markdown",
   "metadata": {},
   "source": [
    "#### Defining model"
   ]
  },
  {
   "cell_type": "code",
   "execution_count": 9,
   "metadata": {},
   "outputs": [],
   "source": [
    "class DrumTransformer(nn.Module):\n",
    "    def __init__(self):\n",
    "        super().__init__()\n",
    "    \n",
    "        self.encoder = nn.TransformerEncoder(\n",
    "            nn.TransformerEncoderLayer(d_model=128, nhead=2, \n",
    "                                       dim_feedforward=128*4, batch_first=True),\n",
    "            num_layers=8,\n",
    "        )\n",
    "        \n",
    "        self.classifier = nn.Sequential(\n",
    "            nn.Linear(128, 64),\n",
    "            nn.ReLU(), nn.Dropout(0.2),\n",
    "            nn.Linear(64, 32),\n",
    "            nn.ReLU(), nn.Dropout(0.2),\n",
    "            nn.Linear(32, 3)\n",
    "        )\n",
    "\n",
    "    def forward(self, x):\n",
    "        x = self.encoder(x)\n",
    "        x = self.classifier(x)\n",
    "        return x"
   ]
  },
  {
   "cell_type": "code",
   "execution_count": 10,
   "metadata": {},
   "outputs": [
    {
     "data": {
      "text/plain": [
       "DrumTransformer(\n",
       "  (encoder): TransformerEncoder(\n",
       "    (layers): ModuleList(\n",
       "      (0): TransformerEncoderLayer(\n",
       "        (self_attn): MultiheadAttention(\n",
       "          (out_proj): NonDynamicallyQuantizableLinear(in_features=128, out_features=128, bias=True)\n",
       "        )\n",
       "        (linear1): Linear(in_features=128, out_features=512, bias=True)\n",
       "        (dropout): Dropout(p=0.1, inplace=False)\n",
       "        (linear2): Linear(in_features=512, out_features=128, bias=True)\n",
       "        (norm1): LayerNorm((128,), eps=1e-05, elementwise_affine=True)\n",
       "        (norm2): LayerNorm((128,), eps=1e-05, elementwise_affine=True)\n",
       "        (dropout1): Dropout(p=0.1, inplace=False)\n",
       "        (dropout2): Dropout(p=0.1, inplace=False)\n",
       "      )\n",
       "      (1): TransformerEncoderLayer(\n",
       "        (self_attn): MultiheadAttention(\n",
       "          (out_proj): NonDynamicallyQuantizableLinear(in_features=128, out_features=128, bias=True)\n",
       "        )\n",
       "        (linear1): Linear(in_features=128, out_features=512, bias=True)\n",
       "        (dropout): Dropout(p=0.1, inplace=False)\n",
       "        (linear2): Linear(in_features=512, out_features=128, bias=True)\n",
       "        (norm1): LayerNorm((128,), eps=1e-05, elementwise_affine=True)\n",
       "        (norm2): LayerNorm((128,), eps=1e-05, elementwise_affine=True)\n",
       "        (dropout1): Dropout(p=0.1, inplace=False)\n",
       "        (dropout2): Dropout(p=0.1, inplace=False)\n",
       "      )\n",
       "      (2): TransformerEncoderLayer(\n",
       "        (self_attn): MultiheadAttention(\n",
       "          (out_proj): NonDynamicallyQuantizableLinear(in_features=128, out_features=128, bias=True)\n",
       "        )\n",
       "        (linear1): Linear(in_features=128, out_features=512, bias=True)\n",
       "        (dropout): Dropout(p=0.1, inplace=False)\n",
       "        (linear2): Linear(in_features=512, out_features=128, bias=True)\n",
       "        (norm1): LayerNorm((128,), eps=1e-05, elementwise_affine=True)\n",
       "        (norm2): LayerNorm((128,), eps=1e-05, elementwise_affine=True)\n",
       "        (dropout1): Dropout(p=0.1, inplace=False)\n",
       "        (dropout2): Dropout(p=0.1, inplace=False)\n",
       "      )\n",
       "      (3): TransformerEncoderLayer(\n",
       "        (self_attn): MultiheadAttention(\n",
       "          (out_proj): NonDynamicallyQuantizableLinear(in_features=128, out_features=128, bias=True)\n",
       "        )\n",
       "        (linear1): Linear(in_features=128, out_features=512, bias=True)\n",
       "        (dropout): Dropout(p=0.1, inplace=False)\n",
       "        (linear2): Linear(in_features=512, out_features=128, bias=True)\n",
       "        (norm1): LayerNorm((128,), eps=1e-05, elementwise_affine=True)\n",
       "        (norm2): LayerNorm((128,), eps=1e-05, elementwise_affine=True)\n",
       "        (dropout1): Dropout(p=0.1, inplace=False)\n",
       "        (dropout2): Dropout(p=0.1, inplace=False)\n",
       "      )\n",
       "      (4): TransformerEncoderLayer(\n",
       "        (self_attn): MultiheadAttention(\n",
       "          (out_proj): NonDynamicallyQuantizableLinear(in_features=128, out_features=128, bias=True)\n",
       "        )\n",
       "        (linear1): Linear(in_features=128, out_features=512, bias=True)\n",
       "        (dropout): Dropout(p=0.1, inplace=False)\n",
       "        (linear2): Linear(in_features=512, out_features=128, bias=True)\n",
       "        (norm1): LayerNorm((128,), eps=1e-05, elementwise_affine=True)\n",
       "        (norm2): LayerNorm((128,), eps=1e-05, elementwise_affine=True)\n",
       "        (dropout1): Dropout(p=0.1, inplace=False)\n",
       "        (dropout2): Dropout(p=0.1, inplace=False)\n",
       "      )\n",
       "      (5): TransformerEncoderLayer(\n",
       "        (self_attn): MultiheadAttention(\n",
       "          (out_proj): NonDynamicallyQuantizableLinear(in_features=128, out_features=128, bias=True)\n",
       "        )\n",
       "        (linear1): Linear(in_features=128, out_features=512, bias=True)\n",
       "        (dropout): Dropout(p=0.1, inplace=False)\n",
       "        (linear2): Linear(in_features=512, out_features=128, bias=True)\n",
       "        (norm1): LayerNorm((128,), eps=1e-05, elementwise_affine=True)\n",
       "        (norm2): LayerNorm((128,), eps=1e-05, elementwise_affine=True)\n",
       "        (dropout1): Dropout(p=0.1, inplace=False)\n",
       "        (dropout2): Dropout(p=0.1, inplace=False)\n",
       "      )\n",
       "      (6): TransformerEncoderLayer(\n",
       "        (self_attn): MultiheadAttention(\n",
       "          (out_proj): NonDynamicallyQuantizableLinear(in_features=128, out_features=128, bias=True)\n",
       "        )\n",
       "        (linear1): Linear(in_features=128, out_features=512, bias=True)\n",
       "        (dropout): Dropout(p=0.1, inplace=False)\n",
       "        (linear2): Linear(in_features=512, out_features=128, bias=True)\n",
       "        (norm1): LayerNorm((128,), eps=1e-05, elementwise_affine=True)\n",
       "        (norm2): LayerNorm((128,), eps=1e-05, elementwise_affine=True)\n",
       "        (dropout1): Dropout(p=0.1, inplace=False)\n",
       "        (dropout2): Dropout(p=0.1, inplace=False)\n",
       "      )\n",
       "      (7): TransformerEncoderLayer(\n",
       "        (self_attn): MultiheadAttention(\n",
       "          (out_proj): NonDynamicallyQuantizableLinear(in_features=128, out_features=128, bias=True)\n",
       "        )\n",
       "        (linear1): Linear(in_features=128, out_features=512, bias=True)\n",
       "        (dropout): Dropout(p=0.1, inplace=False)\n",
       "        (linear2): Linear(in_features=512, out_features=128, bias=True)\n",
       "        (norm1): LayerNorm((128,), eps=1e-05, elementwise_affine=True)\n",
       "        (norm2): LayerNorm((128,), eps=1e-05, elementwise_affine=True)\n",
       "        (dropout1): Dropout(p=0.1, inplace=False)\n",
       "        (dropout2): Dropout(p=0.1, inplace=False)\n",
       "      )\n",
       "    )\n",
       "  )\n",
       "  (classifier): Sequential(\n",
       "    (0): Linear(in_features=128, out_features=64, bias=True)\n",
       "    (1): ReLU()\n",
       "    (2): Dropout(p=0.2, inplace=False)\n",
       "    (3): Linear(in_features=64, out_features=32, bias=True)\n",
       "    (4): ReLU()\n",
       "    (5): Dropout(p=0.2, inplace=False)\n",
       "    (6): Linear(in_features=32, out_features=3, bias=True)\n",
       "  )\n",
       ")"
      ]
     },
     "execution_count": 10,
     "metadata": {},
     "output_type": "execute_result"
    }
   ],
   "source": [
    "model = DrumTransformer().to(device)\n",
    "model"
   ]
  },
  {
   "cell_type": "code",
   "execution_count": 11,
   "metadata": {},
   "outputs": [
    {
     "data": {
      "text/plain": [
       "1586176"
      ]
     },
     "execution_count": 11,
     "metadata": {},
     "output_type": "execute_result"
    }
   ],
   "source": [
    "sum(p.numel() for p in model.encoder.parameters())"
   ]
  },
  {
   "cell_type": "code",
   "execution_count": 12,
   "metadata": {},
   "outputs": [],
   "source": [
    "# Checking if forward is correct\n",
    "for X, y in train_dataloader:\n",
    "    X = X.to(device)\n",
    "    y = y.to(device)\n",
    "    break\n",
    "    \n",
    "outputs = model(X)\n",
    "assert outputs.shape == y.shape"
   ]
  },
  {
   "cell_type": "code",
   "execution_count": 13,
   "metadata": {},
   "outputs": [
    {
     "data": {
      "text/plain": [
       "tensor(1.2942, device='cuda:0',\n",
       "       grad_fn=<BinaryCrossEntropyWithLogitsBackward0>)"
      ]
     },
     "execution_count": 13,
     "metadata": {},
     "output_type": "execute_result"
    }
   ],
   "source": [
    "# Checking if loss function works\n",
    "criterion = nn.BCEWithLogitsLoss(pos_weight=pos_weight)\n",
    "criterion(outputs, y)"
   ]
  },
  {
   "cell_type": "markdown",
   "metadata": {},
   "source": [
    "#### Running training script"
   ]
  },
  {
   "cell_type": "code",
   "execution_count": 14,
   "metadata": {},
   "outputs": [],
   "source": [
    "def evaluate(model, validation_dataloader, criterion):\n",
    "    val_loss = []\n",
    "    \n",
    "    model.eval()\n",
    "    with torch.no_grad():\n",
    "        for X, y in validation_dataloader:\n",
    "            X = X.to(device)\n",
    "            y = y.to(device)\n",
    "            \n",
    "            outputs = model(X)\n",
    "            loss = criterion(outputs, y)\n",
    "            val_loss.append(loss.item())\n",
    "            \n",
    "    val_loss = np.mean(val_loss)\n",
    "    return val_loss        "
   ]
  },
  {
   "cell_type": "code",
   "execution_count": 15,
   "metadata": {},
   "outputs": [
    {
     "name": "stdout",
     "output_type": "stream",
     "text": [
      "Saving new best model...\n",
      "[epoch 1/500] --> train loss: 1.35593, validation loss: 1.250688\n",
      "Saving new best model...\n",
      "[epoch 2/500] --> train loss: 1.35448, validation loss: 1.249887\n",
      "Saving new best model...\n",
      "[epoch 3/500] --> train loss: 1.35449, validation loss: 1.249553\n",
      "[epoch 4/500] --> train loss: 1.35418, validation loss: 1.251123\n",
      "[epoch 5/500] --> train loss: 1.35436, validation loss: 1.250722\n",
      "[epoch 6/500] --> train loss: 1.35453, validation loss: 1.250908\n",
      "[epoch 7/500] --> train loss: 1.35509, validation loss: 1.251570\n",
      "[epoch 8/500] --> train loss: 1.35391, validation loss: 1.251191\n",
      "[epoch 9/500] --> train loss: 1.35383, validation loss: 1.250379\n",
      "[epoch 10/500] --> train loss: 1.35438, validation loss: 1.250412\n",
      "[epoch 11/500] --> train loss: 1.35488, validation loss: 1.250890\n",
      "[epoch 12/500] --> train loss: 1.35461, validation loss: 1.250958\n",
      "[epoch 13/500] --> train loss: 1.35372, validation loss: 1.251025\n",
      "[epoch 14/500] --> train loss: 1.35521, validation loss: 1.250720\n",
      "[epoch 15/500] --> train loss: 1.35469, validation loss: 1.250226\n",
      "[epoch 16/500] --> train loss: 1.35531, validation loss: 1.250822\n",
      "[epoch 17/500] --> train loss: 1.35537, validation loss: 1.250416\n",
      "[epoch 18/500] --> train loss: 1.35500, validation loss: 1.251239\n",
      "[epoch 19/500] --> train loss: 1.35480, validation loss: 1.251011\n",
      "[epoch 20/500] --> train loss: 1.35476, validation loss: 1.251032\n",
      "[epoch 21/500] --> train loss: 1.35547, validation loss: 1.250775\n",
      "[epoch 22/500] --> train loss: 1.35554, validation loss: 1.250655\n",
      "[epoch 23/500] --> train loss: 1.35340, validation loss: 1.250692\n",
      "[epoch 24/500] --> train loss: 1.35390, validation loss: 1.251114\n",
      "[epoch 25/500] --> train loss: 1.35416, validation loss: 1.250920\n",
      "[epoch 26/500] --> train loss: 1.35448, validation loss: 1.250297\n",
      "[epoch 27/500] --> train loss: 1.35475, validation loss: 1.250347\n",
      "[epoch 28/500] --> train loss: 1.35500, validation loss: 1.251009\n",
      "[epoch 29/500] --> train loss: 1.35382, validation loss: 1.250726\n",
      "[epoch 30/500] --> train loss: 1.35391, validation loss: 1.250854\n",
      "[epoch 31/500] --> train loss: 1.35436, validation loss: 1.250426\n",
      "[epoch 32/500] --> train loss: 1.35498, validation loss: 1.251086\n",
      "[epoch 33/500] --> train loss: 1.35486, validation loss: 1.250956\n",
      "[epoch 34/500] --> train loss: 1.35467, validation loss: 1.250806\n",
      "[epoch 35/500] --> train loss: 1.35416, validation loss: 1.250763\n",
      "[epoch 36/500] --> train loss: 1.35502, validation loss: 1.250802\n",
      "[epoch 37/500] --> train loss: 1.35469, validation loss: 1.250785\n",
      "[epoch 38/500] --> train loss: 1.35546, validation loss: 1.250947\n",
      "[epoch 39/500] --> train loss: 1.35446, validation loss: 1.251074\n",
      "[epoch 40/500] --> train loss: 1.35537, validation loss: 1.251011\n",
      "[epoch 41/500] --> train loss: 1.35431, validation loss: 1.250746\n",
      "[epoch 42/500] --> train loss: 1.35415, validation loss: 1.250904\n",
      "[epoch 43/500] --> train loss: 1.35510, validation loss: 1.250962\n",
      "[epoch 44/500] --> train loss: 1.35471, validation loss: 1.250787\n",
      "[epoch 45/500] --> train loss: 1.35460, validation loss: 1.250481\n",
      "[epoch 46/500] --> train loss: 1.35445, validation loss: 1.250633\n",
      "[epoch 47/500] --> train loss: 1.35476, validation loss: 1.250724\n",
      "[epoch 48/500] --> train loss: 1.35498, validation loss: 1.250961\n",
      "[epoch 49/500] --> train loss: 1.35386, validation loss: 1.250665\n",
      "[epoch 50/500] --> train loss: 1.35437, validation loss: 1.250659\n",
      "[epoch 51/500] --> train loss: 1.35437, validation loss: 1.250745\n",
      "[epoch 52/500] --> train loss: 1.35462, validation loss: 1.250785\n",
      "[epoch 53/500] --> train loss: 1.35440, validation loss: 1.250691\n",
      "[epoch 54/500] --> train loss: 1.35381, validation loss: 1.250639\n",
      "[epoch 55/500] --> train loss: 1.35537, validation loss: 1.250772\n",
      "[epoch 56/500] --> train loss: 1.35461, validation loss: 1.250833\n",
      "[epoch 57/500] --> train loss: 1.35499, validation loss: 1.250818\n",
      "[epoch 58/500] --> train loss: 1.35486, validation loss: 1.250814\n",
      "[epoch 59/500] --> train loss: 1.35536, validation loss: 1.250607\n",
      "[epoch 60/500] --> train loss: 1.35514, validation loss: 1.250734\n",
      "[epoch 61/500] --> train loss: 1.35494, validation loss: 1.250445\n",
      "[epoch 62/500] --> train loss: 1.35385, validation loss: 1.250413\n",
      "[epoch 63/500] --> train loss: 1.35452, validation loss: 1.250847\n",
      "[epoch 64/500] --> train loss: 1.35495, validation loss: 1.250645\n",
      "[epoch 65/500] --> train loss: 1.35436, validation loss: 1.250494\n",
      "[epoch 66/500] --> train loss: 1.35397, validation loss: 1.250986\n",
      "[epoch 67/500] --> train loss: 1.35477, validation loss: 1.250388\n",
      "[epoch 68/500] --> train loss: 1.35453, validation loss: 1.250544\n",
      "[epoch 69/500] --> train loss: 1.35592, validation loss: 1.250788\n",
      "[epoch 70/500] --> train loss: 1.35440, validation loss: 1.250849\n",
      "[epoch 71/500] --> train loss: 1.35490, validation loss: 1.250544\n",
      "[epoch 72/500] --> train loss: 1.35461, validation loss: 1.251112\n",
      "[epoch 73/500] --> train loss: 1.35502, validation loss: 1.250673\n",
      "[epoch 74/500] --> train loss: 1.35514, validation loss: 1.250956\n",
      "[epoch 75/500] --> train loss: 1.35533, validation loss: 1.250771\n",
      "[epoch 76/500] --> train loss: 1.35485, validation loss: 1.250958\n",
      "[epoch 77/500] --> train loss: 1.35529, validation loss: 1.251032\n",
      "[epoch 78/500] --> train loss: 1.35461, validation loss: 1.250381\n",
      "[epoch 79/500] --> train loss: 1.35499, validation loss: 1.250637\n",
      "[epoch 80/500] --> train loss: 1.35419, validation loss: 1.250718\n",
      "[epoch 81/500] --> train loss: 1.35461, validation loss: 1.250611\n",
      "[epoch 82/500] --> train loss: 1.35339, validation loss: 1.250548\n",
      "[epoch 83/500] --> train loss: 1.35415, validation loss: 1.250547\n",
      "[epoch 84/500] --> train loss: 1.35453, validation loss: 1.250536\n",
      "[epoch 85/500] --> train loss: 1.35500, validation loss: 1.250614\n",
      "[epoch 86/500] --> train loss: 1.35381, validation loss: 1.251324\n",
      "[epoch 87/500] --> train loss: 1.35378, validation loss: 1.250820\n",
      "[epoch 88/500] --> train loss: 1.35445, validation loss: 1.250824\n",
      "[epoch 89/500] --> train loss: 1.35509, validation loss: 1.250706\n",
      "[epoch 90/500] --> train loss: 1.35390, validation loss: 1.250705\n",
      "[epoch 91/500] --> train loss: 1.35460, validation loss: 1.251091\n",
      "[epoch 92/500] --> train loss: 1.35669, validation loss: 1.251234\n",
      "[epoch 93/500] --> train loss: 1.35375, validation loss: 1.251219\n",
      "[epoch 94/500] --> train loss: 1.35487, validation loss: 1.250952\n",
      "[epoch 95/500] --> train loss: 1.35473, validation loss: 1.251139\n",
      "[epoch 96/500] --> train loss: 1.35521, validation loss: 1.251056\n",
      "[epoch 97/500] --> train loss: 1.35428, validation loss: 1.251018\n",
      "[epoch 98/500] --> train loss: 1.35490, validation loss: 1.250717\n",
      "[epoch 99/500] --> train loss: 1.35305, validation loss: 1.250677\n",
      "[epoch 100/500] --> train loss: 1.35428, validation loss: 1.250661\n",
      "[epoch 101/500] --> train loss: 1.35511, validation loss: 1.250509\n",
      "[epoch 102/500] --> train loss: 1.35502, validation loss: 1.250917\n",
      "[epoch 103/500] --> train loss: 1.35386, validation loss: 1.250703\n",
      "[epoch 104/500] --> train loss: 1.35545, validation loss: 1.250827\n",
      "[epoch 105/500] --> train loss: 1.35450, validation loss: 1.250951\n",
      "[epoch 106/500] --> train loss: 1.35389, validation loss: 1.250725\n",
      "[epoch 107/500] --> train loss: 1.35533, validation loss: 1.250779\n",
      "[epoch 108/500] --> train loss: 1.35415, validation loss: 1.250795\n",
      "[epoch 109/500] --> train loss: 1.35420, validation loss: 1.250807\n",
      "[epoch 110/500] --> train loss: 1.35498, validation loss: 1.250859\n",
      "[epoch 111/500] --> train loss: 1.35381, validation loss: 1.250951\n",
      "[epoch 112/500] --> train loss: 1.35415, validation loss: 1.250858\n",
      "[epoch 113/500] --> train loss: 1.35458, validation loss: 1.250636\n",
      "[epoch 114/500] --> train loss: 1.35442, validation loss: 1.250606\n",
      "[epoch 115/500] --> train loss: 1.35498, validation loss: 1.250768\n",
      "[epoch 116/500] --> train loss: 1.35498, validation loss: 1.250983\n",
      "[epoch 117/500] --> train loss: 1.35453, validation loss: 1.251116\n",
      "[epoch 118/500] --> train loss: 1.35465, validation loss: 1.250862\n",
      "[epoch 119/500] --> train loss: 1.35529, validation loss: 1.250832\n",
      "[epoch 120/500] --> train loss: 1.35710, validation loss: 1.250788\n",
      "[epoch 121/500] --> train loss: 1.35536, validation loss: 1.250948\n",
      "[epoch 122/500] --> train loss: 1.35386, validation loss: 1.250493\n",
      "[epoch 123/500] --> train loss: 1.35381, validation loss: 1.250839\n",
      "[epoch 124/500] --> train loss: 1.35503, validation loss: 1.250927\n",
      "[epoch 125/500] --> train loss: 1.35514, validation loss: 1.250666\n",
      "[epoch 126/500] --> train loss: 1.35521, validation loss: 1.250233\n",
      "[epoch 127/500] --> train loss: 1.35436, validation loss: 1.250724\n",
      "[epoch 128/500] --> train loss: 1.35499, validation loss: 1.250588\n",
      "[epoch 129/500] --> train loss: 1.35537, validation loss: 1.250707\n",
      "[epoch 130/500] --> train loss: 1.35465, validation loss: 1.250484\n",
      "[epoch 131/500] --> train loss: 1.35512, validation loss: 1.250859\n",
      "[epoch 132/500] --> train loss: 1.35454, validation loss: 1.250811\n",
      "[epoch 133/500] --> train loss: 1.35513, validation loss: 1.250755\n",
      "[epoch 134/500] --> train loss: 1.35545, validation loss: 1.250898\n",
      "[epoch 135/500] --> train loss: 1.35536, validation loss: 1.250794\n",
      "[epoch 136/500] --> train loss: 1.35489, validation loss: 1.250868\n",
      "[epoch 137/500] --> train loss: 1.35486, validation loss: 1.250857\n",
      "[epoch 138/500] --> train loss: 1.35513, validation loss: 1.250919\n",
      "[epoch 139/500] --> train loss: 1.35419, validation loss: 1.250765\n",
      "[epoch 140/500] --> train loss: 1.35461, validation loss: 1.250837\n",
      "[epoch 141/500] --> train loss: 1.35368, validation loss: 1.250741\n",
      "[epoch 142/500] --> train loss: 1.35384, validation loss: 1.250412\n",
      "[epoch 143/500] --> train loss: 1.35460, validation loss: 1.250832\n",
      "[epoch 144/500] --> train loss: 1.35529, validation loss: 1.250764\n",
      "[epoch 145/500] --> train loss: 1.35499, validation loss: 1.250899\n",
      "[epoch 146/500] --> train loss: 1.35509, validation loss: 1.250880\n",
      "[epoch 147/500] --> train loss: 1.35446, validation loss: 1.251026\n",
      "[epoch 148/500] --> train loss: 1.35514, validation loss: 1.250692\n",
      "[epoch 149/500] --> train loss: 1.35445, validation loss: 1.250935\n",
      "[epoch 150/500] --> train loss: 1.35529, validation loss: 1.250875\n",
      "[epoch 151/500] --> train loss: 1.35499, validation loss: 1.250663\n",
      "[epoch 152/500] --> train loss: 1.35517, validation loss: 1.250808\n",
      "[epoch 153/500] --> train loss: 1.35507, validation loss: 1.250665\n",
      "[epoch 154/500] --> train loss: 1.35511, validation loss: 1.250841\n",
      "[epoch 155/500] --> train loss: 1.35545, validation loss: 1.250893\n",
      "[epoch 156/500] --> train loss: 1.35520, validation loss: 1.250792\n",
      "[epoch 157/500] --> train loss: 1.35414, validation loss: 1.250556\n",
      "[epoch 158/500] --> train loss: 1.35496, validation loss: 1.250952\n",
      "[epoch 159/500] --> train loss: 1.35436, validation loss: 1.250636\n",
      "[epoch 160/500] --> train loss: 1.35422, validation loss: 1.250648\n",
      "[epoch 161/500] --> train loss: 1.35465, validation loss: 1.250843\n",
      "[epoch 162/500] --> train loss: 1.35536, validation loss: 1.250804\n",
      "[epoch 163/500] --> train loss: 1.35523, validation loss: 1.250848\n",
      "[epoch 164/500] --> train loss: 1.35470, validation loss: 1.250823\n",
      "[epoch 165/500] --> train loss: 1.35485, validation loss: 1.250901\n",
      "[epoch 166/500] --> train loss: 1.35536, validation loss: 1.250875\n",
      "[epoch 167/500] --> train loss: 1.35436, validation loss: 1.251056\n",
      "[epoch 168/500] --> train loss: 1.35387, validation loss: 1.250842\n",
      "[epoch 169/500] --> train loss: 1.35456, validation loss: 1.250440\n",
      "[epoch 170/500] --> train loss: 1.35491, validation loss: 1.250803\n",
      "[epoch 171/500] --> train loss: 1.35385, validation loss: 1.250881\n",
      "[epoch 172/500] --> train loss: 1.35461, validation loss: 1.250658\n",
      "[epoch 173/500] --> train loss: 1.35510, validation loss: 1.250406\n",
      "[epoch 174/500] --> train loss: 1.35405, validation loss: 1.250928\n",
      "[epoch 175/500] --> train loss: 1.35390, validation loss: 1.250841\n",
      "[epoch 176/500] --> train loss: 1.35498, validation loss: 1.250767\n",
      "[epoch 177/500] --> train loss: 1.35487, validation loss: 1.250608\n",
      "[epoch 178/500] --> train loss: 1.35381, validation loss: 1.250639\n",
      "[epoch 179/500] --> train loss: 1.35431, validation loss: 1.250386\n",
      "[epoch 180/500] --> train loss: 1.35547, validation loss: 1.250651\n",
      "[epoch 181/500] --> train loss: 1.35435, validation loss: 1.250667\n",
      "[epoch 182/500] --> train loss: 1.35490, validation loss: 1.250743\n",
      "[epoch 183/500] --> train loss: 1.35385, validation loss: 1.250370\n",
      "[epoch 184/500] --> train loss: 1.35454, validation loss: 1.250532\n",
      "[epoch 185/500] --> train loss: 1.35461, validation loss: 1.250577\n",
      "[epoch 186/500] --> train loss: 1.35364, validation loss: 1.250598\n",
      "[epoch 187/500] --> train loss: 1.35499, validation loss: 1.250648\n",
      "[epoch 188/500] --> train loss: 1.35461, validation loss: 1.250782\n",
      "[epoch 189/500] --> train loss: 1.35536, validation loss: 1.251189\n",
      "[epoch 190/500] --> train loss: 1.35511, validation loss: 1.250768\n",
      "[epoch 191/500] --> train loss: 1.35450, validation loss: 1.251099\n",
      "[epoch 192/500] --> train loss: 1.35469, validation loss: 1.250583\n",
      "[epoch 193/500] --> train loss: 1.35424, validation loss: 1.250892\n",
      "[epoch 194/500] --> train loss: 1.35384, validation loss: 1.250306\n",
      "[epoch 195/500] --> train loss: 1.35431, validation loss: 1.250441\n",
      "[epoch 196/500] --> train loss: 1.35386, validation loss: 1.250785\n",
      "[epoch 197/500] --> train loss: 1.35448, validation loss: 1.250525\n",
      "[epoch 198/500] --> train loss: 1.35505, validation loss: 1.251304\n",
      "[epoch 199/500] --> train loss: 1.35511, validation loss: 1.250958\n",
      "[epoch 200/500] --> train loss: 1.35413, validation loss: 1.251091\n",
      "[epoch 201/500] --> train loss: 1.35512, validation loss: 1.250711\n",
      "[epoch 202/500] --> train loss: 1.35475, validation loss: 1.250680\n",
      "[epoch 203/500] --> train loss: 1.35378, validation loss: 1.250597\n",
      "[epoch 204/500] --> train loss: 1.35558, validation loss: 1.250720\n",
      "[epoch 205/500] --> train loss: 1.35566, validation loss: 1.250652\n",
      "[epoch 206/500] --> train loss: 1.35536, validation loss: 1.251125\n",
      "[epoch 207/500] --> train loss: 1.35489, validation loss: 1.250788\n",
      "[epoch 208/500] --> train loss: 1.35463, validation loss: 1.250899\n",
      "[epoch 209/500] --> train loss: 1.35461, validation loss: 1.250588\n",
      "[epoch 210/500] --> train loss: 1.35454, validation loss: 1.250626\n",
      "[epoch 211/500] --> train loss: 1.35415, validation loss: 1.250727\n",
      "[epoch 212/500] --> train loss: 1.35398, validation loss: 1.251059\n",
      "[epoch 213/500] --> train loss: 1.35499, validation loss: 1.251265\n",
      "[epoch 214/500] --> train loss: 1.35413, validation loss: 1.250798\n",
      "[epoch 215/500] --> train loss: 1.35444, validation loss: 1.250661\n",
      "[epoch 216/500] --> train loss: 1.35494, validation loss: 1.251109\n",
      "[epoch 217/500] --> train loss: 1.35478, validation loss: 1.250806\n",
      "[epoch 218/500] --> train loss: 1.35436, validation loss: 1.250827\n",
      "[epoch 219/500] --> train loss: 1.35490, validation loss: 1.250863\n",
      "[epoch 220/500] --> train loss: 1.35520, validation loss: 1.251113\n",
      "[epoch 221/500] --> train loss: 1.35485, validation loss: 1.250813\n",
      "[epoch 222/500] --> train loss: 1.35634, validation loss: 1.250939\n",
      "[epoch 223/500] --> train loss: 1.35483, validation loss: 1.250952\n",
      "[epoch 224/500] --> train loss: 1.35444, validation loss: 1.250941\n",
      "[epoch 225/500] --> train loss: 1.35357, validation loss: 1.250818\n",
      "[epoch 226/500] --> train loss: 1.35457, validation loss: 1.250825\n",
      "[epoch 227/500] --> train loss: 1.35490, validation loss: 1.250813\n",
      "[epoch 228/500] --> train loss: 1.35449, validation loss: 1.251022\n",
      "[epoch 229/500] --> train loss: 1.35486, validation loss: 1.251030\n",
      "[epoch 230/500] --> train loss: 1.35397, validation loss: 1.250384\n",
      "[epoch 231/500] --> train loss: 1.35433, validation loss: 1.250480\n",
      "[epoch 232/500] --> train loss: 1.35452, validation loss: 1.250608\n",
      "[epoch 233/500] --> train loss: 1.35433, validation loss: 1.250798\n",
      "[epoch 234/500] --> train loss: 1.35390, validation loss: 1.250749\n",
      "[epoch 235/500] --> train loss: 1.35477, validation loss: 1.250944\n",
      "[epoch 236/500] --> train loss: 1.35486, validation loss: 1.251105\n",
      "[epoch 237/500] --> train loss: 1.35536, validation loss: 1.250803\n",
      "[epoch 238/500] --> train loss: 1.35545, validation loss: 1.251097\n",
      "[epoch 239/500] --> train loss: 1.35509, validation loss: 1.250892\n",
      "[epoch 240/500] --> train loss: 1.35477, validation loss: 1.250657\n",
      "[epoch 241/500] --> train loss: 1.35478, validation loss: 1.250818\n",
      "[epoch 242/500] --> train loss: 1.35537, validation loss: 1.250971\n",
      "[epoch 243/500] --> train loss: 1.35471, validation loss: 1.250776\n",
      "[epoch 244/500] --> train loss: 1.35305, validation loss: 1.250763\n",
      "[epoch 245/500] --> train loss: 1.35435, validation loss: 1.250791\n",
      "[epoch 246/500] --> train loss: 1.35419, validation loss: 1.250452\n",
      "[epoch 247/500] --> train loss: 1.35389, validation loss: 1.250641\n",
      "[epoch 248/500] --> train loss: 1.35386, validation loss: 1.250710\n",
      "[epoch 249/500] --> train loss: 1.35461, validation loss: 1.250636\n",
      "[epoch 250/500] --> train loss: 1.35420, validation loss: 1.250754\n",
      "[epoch 251/500] --> train loss: 1.35431, validation loss: 1.250814\n",
      "[epoch 252/500] --> train loss: 1.35382, validation loss: 1.251078\n",
      "[epoch 253/500] --> train loss: 1.35498, validation loss: 1.250571\n",
      "[epoch 254/500] --> train loss: 1.35444, validation loss: 1.250741\n",
      "[epoch 255/500] --> train loss: 1.35423, validation loss: 1.251012\n",
      "[epoch 256/500] --> train loss: 1.35394, validation loss: 1.250822\n",
      "[epoch 257/500] --> train loss: 1.35669, validation loss: 1.250805\n",
      "[epoch 258/500] --> train loss: 1.35490, validation loss: 1.251189\n",
      "[epoch 259/500] --> train loss: 1.35462, validation loss: 1.251193\n",
      "[epoch 260/500] --> train loss: 1.35511, validation loss: 1.250999\n",
      "[epoch 261/500] --> train loss: 1.35487, validation loss: 1.250769\n",
      "[epoch 262/500] --> train loss: 1.35483, validation loss: 1.251100\n",
      "[epoch 263/500] --> train loss: 1.35440, validation loss: 1.250708\n",
      "[epoch 264/500] --> train loss: 1.35457, validation loss: 1.250680\n",
      "[epoch 265/500] --> train loss: 1.35545, validation loss: 1.250781\n",
      "[epoch 266/500] --> train loss: 1.35545, validation loss: 1.250968\n",
      "[epoch 267/500] --> train loss: 1.35467, validation loss: 1.250774\n",
      "[epoch 268/500] --> train loss: 1.35520, validation loss: 1.250885\n",
      "[epoch 269/500] --> train loss: 1.35381, validation loss: 1.250695\n",
      "[epoch 270/500] --> train loss: 1.35450, validation loss: 1.250770\n",
      "[epoch 271/500] --> train loss: 1.35440, validation loss: 1.251032\n",
      "[epoch 272/500] --> train loss: 1.35373, validation loss: 1.250751\n",
      "[epoch 273/500] --> train loss: 1.35314, validation loss: 1.250938\n",
      "[epoch 274/500] --> train loss: 1.35697, validation loss: 1.250865\n",
      "[epoch 275/500] --> train loss: 1.35385, validation loss: 1.250398\n",
      "[epoch 276/500] --> train loss: 1.35397, validation loss: 1.250940\n",
      "[epoch 277/500] --> train loss: 1.35515, validation loss: 1.250572\n",
      "[epoch 278/500] --> train loss: 1.35510, validation loss: 1.250409\n",
      "[epoch 279/500] --> train loss: 1.35380, validation loss: 1.250669\n",
      "[epoch 280/500] --> train loss: 1.35541, validation loss: 1.250880\n",
      "[epoch 281/500] --> train loss: 1.35554, validation loss: 1.250974\n",
      "[epoch 282/500] --> train loss: 1.35529, validation loss: 1.250875\n",
      "[epoch 283/500] --> train loss: 1.35485, validation loss: 1.250617\n",
      "[epoch 284/500] --> train loss: 1.35434, validation loss: 1.250611\n",
      "[epoch 285/500] --> train loss: 1.35445, validation loss: 1.250755\n",
      "[epoch 286/500] --> train loss: 1.35509, validation loss: 1.250647\n",
      "[epoch 287/500] --> train loss: 1.35492, validation loss: 1.250799\n",
      "[epoch 288/500] --> train loss: 1.35545, validation loss: 1.251174\n",
      "[epoch 289/500] --> train loss: 1.35380, validation loss: 1.250718\n",
      "[epoch 290/500] --> train loss: 1.35385, validation loss: 1.250675\n",
      "[epoch 291/500] --> train loss: 1.35390, validation loss: 1.250890\n",
      "[epoch 292/500] --> train loss: 1.35546, validation loss: 1.250611\n",
      "[epoch 293/500] --> train loss: 1.35502, validation loss: 1.250728\n",
      "[epoch 294/500] --> train loss: 1.35386, validation loss: 1.250717\n",
      "[epoch 295/500] --> train loss: 1.35545, validation loss: 1.251004\n",
      "[epoch 296/500] --> train loss: 1.35460, validation loss: 1.251236\n",
      "[epoch 297/500] --> train loss: 1.35489, validation loss: 1.251030\n",
      "[epoch 298/500] --> train loss: 1.35517, validation loss: 1.250980\n",
      "[epoch 299/500] --> train loss: 1.35545, validation loss: 1.250758\n",
      "[epoch 300/500] --> train loss: 1.35464, validation loss: 1.250952\n",
      "[epoch 301/500] --> train loss: 1.35463, validation loss: 1.250711\n",
      "[epoch 302/500] --> train loss: 1.35515, validation loss: 1.250983\n",
      "[epoch 303/500] --> train loss: 1.35373, validation loss: 1.250557\n",
      "[epoch 304/500] --> train loss: 1.35528, validation loss: 1.250799\n",
      "[epoch 305/500] --> train loss: 1.35506, validation loss: 1.250891\n",
      "[epoch 306/500] --> train loss: 1.35467, validation loss: 1.250730\n",
      "[epoch 307/500] --> train loss: 1.35339, validation loss: 1.250676\n",
      "[epoch 308/500] --> train loss: 1.35522, validation loss: 1.250566\n",
      "[epoch 309/500] --> train loss: 1.35502, validation loss: 1.250829\n",
      "[epoch 310/500] --> train loss: 1.35709, validation loss: 1.251039\n",
      "[epoch 311/500] --> train loss: 1.35486, validation loss: 1.250918\n",
      "[epoch 312/500] --> train loss: 1.35373, validation loss: 1.250803\n",
      "[epoch 313/500] --> train loss: 1.35415, validation loss: 1.250404\n",
      "[epoch 314/500] --> train loss: 1.35698, validation loss: 1.250657\n",
      "[epoch 315/500] --> train loss: 1.35486, validation loss: 1.250561\n",
      "[epoch 316/500] --> train loss: 1.35435, validation loss: 1.250782\n",
      "[epoch 317/500] --> train loss: 1.35490, validation loss: 1.250814\n",
      "[epoch 318/500] --> train loss: 1.35545, validation loss: 1.250757\n",
      "[epoch 319/500] --> train loss: 1.35389, validation loss: 1.250886\n",
      "[epoch 320/500] --> train loss: 1.35487, validation loss: 1.250916\n",
      "[epoch 321/500] --> train loss: 1.35391, validation loss: 1.250683\n",
      "[epoch 322/500] --> train loss: 1.35485, validation loss: 1.250604\n",
      "[epoch 323/500] --> train loss: 1.35470, validation loss: 1.250669\n",
      "[epoch 324/500] --> train loss: 1.35498, validation loss: 1.250819\n",
      "[epoch 325/500] --> train loss: 1.35553, validation loss: 1.251054\n",
      "[epoch 326/500] --> train loss: 1.35470, validation loss: 1.251193\n",
      "[epoch 327/500] --> train loss: 1.35536, validation loss: 1.251037\n",
      "[epoch 328/500] --> train loss: 1.35499, validation loss: 1.250848\n",
      "[epoch 329/500] --> train loss: 1.35534, validation loss: 1.250776\n",
      "[epoch 330/500] --> train loss: 1.35476, validation loss: 1.250789\n",
      "[epoch 331/500] --> train loss: 1.35511, validation loss: 1.250790\n",
      "[epoch 332/500] --> train loss: 1.35460, validation loss: 1.250751\n",
      "[epoch 333/500] --> train loss: 1.35634, validation loss: 1.250891\n",
      "[epoch 334/500] --> train loss: 1.35499, validation loss: 1.251087\n",
      "[epoch 335/500] --> train loss: 1.35491, validation loss: 1.250747\n",
      "[epoch 336/500] --> train loss: 1.35372, validation loss: 1.250903\n",
      "[epoch 337/500] --> train loss: 1.35419, validation loss: 1.250837\n",
      "[epoch 338/500] --> train loss: 1.35546, validation loss: 1.250750\n",
      "[epoch 339/500] --> train loss: 1.35389, validation loss: 1.250416\n",
      "[epoch 340/500] --> train loss: 1.35430, validation loss: 1.250628\n",
      "[epoch 341/500] --> train loss: 1.35380, validation loss: 1.250916\n",
      "[epoch 342/500] --> train loss: 1.35438, validation loss: 1.250718\n",
      "[epoch 343/500] --> train loss: 1.35453, validation loss: 1.250616\n",
      "[epoch 344/500] --> train loss: 1.35365, validation loss: 1.250804\n",
      "[epoch 345/500] --> train loss: 1.35473, validation loss: 1.250674\n",
      "[epoch 346/500] --> train loss: 1.35664, validation loss: 1.250604\n",
      "[epoch 347/500] --> train loss: 1.35465, validation loss: 1.251082\n",
      "[epoch 348/500] --> train loss: 1.35469, validation loss: 1.250829\n",
      "[epoch 349/500] --> train loss: 1.35465, validation loss: 1.250901\n",
      "[epoch 350/500] --> train loss: 1.35462, validation loss: 1.250733\n",
      "[epoch 351/500] --> train loss: 1.35467, validation loss: 1.250566\n",
      "[epoch 352/500] --> train loss: 1.35507, validation loss: 1.251192\n",
      "[epoch 353/500] --> train loss: 1.35381, validation loss: 1.250922\n",
      "[epoch 354/500] --> train loss: 1.35418, validation loss: 1.250699\n",
      "[epoch 355/500] --> train loss: 1.35385, validation loss: 1.250525\n",
      "[epoch 356/500] --> train loss: 1.35498, validation loss: 1.250618\n",
      "[epoch 357/500] --> train loss: 1.35473, validation loss: 1.250494\n",
      "[epoch 358/500] --> train loss: 1.35461, validation loss: 1.250432\n",
      "[epoch 359/500] --> train loss: 1.35512, validation loss: 1.250893\n",
      "[epoch 360/500] --> train loss: 1.35458, validation loss: 1.250604\n",
      "[epoch 361/500] --> train loss: 1.35498, validation loss: 1.250541\n",
      "[epoch 362/500] --> train loss: 1.35381, validation loss: 1.250919\n",
      "[epoch 363/500] --> train loss: 1.35347, validation loss: 1.250667\n",
      "[epoch 364/500] --> train loss: 1.35371, validation loss: 1.250542\n",
      "[epoch 365/500] --> train loss: 1.35635, validation loss: 1.250665\n",
      "[epoch 366/500] --> train loss: 1.35390, validation loss: 1.250867\n",
      "[epoch 367/500] --> train loss: 1.35492, validation loss: 1.250802\n",
      "[epoch 368/500] --> train loss: 1.35422, validation loss: 1.250598\n",
      "[epoch 369/500] --> train loss: 1.35499, validation loss: 1.250738\n",
      "[epoch 370/500] --> train loss: 1.35381, validation loss: 1.250325\n",
      "[epoch 371/500] --> train loss: 1.35538, validation loss: 1.250467\n",
      "[epoch 372/500] --> train loss: 1.35515, validation loss: 1.250749\n",
      "[epoch 373/500] --> train loss: 1.35381, validation loss: 1.250723\n",
      "[epoch 374/500] --> train loss: 1.35389, validation loss: 1.250751\n",
      "[epoch 375/500] --> train loss: 1.35314, validation loss: 1.250688\n",
      "[epoch 376/500] --> train loss: 1.35385, validation loss: 1.250717\n",
      "[epoch 377/500] --> train loss: 1.35498, validation loss: 1.250832\n",
      "[epoch 378/500] --> train loss: 1.35457, validation loss: 1.250797\n",
      "[epoch 379/500] --> train loss: 1.35415, validation loss: 1.250966\n",
      "[epoch 380/500] --> train loss: 1.35509, validation loss: 1.250765\n",
      "[epoch 381/500] --> train loss: 1.35525, validation loss: 1.250937\n",
      "[epoch 382/500] --> train loss: 1.35386, validation loss: 1.250931\n",
      "[epoch 383/500] --> train loss: 1.35355, validation loss: 1.250582\n",
      "[epoch 384/500] --> train loss: 1.35381, validation loss: 1.250814\n",
      "[epoch 385/500] --> train loss: 1.35331, validation loss: 1.250961\n",
      "[epoch 386/500] --> train loss: 1.35522, validation loss: 1.250789\n",
      "[epoch 387/500] --> train loss: 1.35475, validation loss: 1.251098\n",
      "[epoch 388/500] --> train loss: 1.35554, validation loss: 1.250823\n",
      "[epoch 389/500] --> train loss: 1.35467, validation loss: 1.251152\n",
      "[epoch 390/500] --> train loss: 1.35432, validation loss: 1.250814\n",
      "[epoch 391/500] --> train loss: 1.35385, validation loss: 1.250724\n",
      "[epoch 392/500] --> train loss: 1.35389, validation loss: 1.250774\n",
      "[epoch 393/500] --> train loss: 1.35511, validation loss: 1.250854\n",
      "[epoch 394/500] --> train loss: 1.35364, validation loss: 1.250619\n",
      "[epoch 395/500] --> train loss: 1.35377, validation loss: 1.250483\n",
      "[epoch 396/500] --> train loss: 1.35436, validation loss: 1.250832\n",
      "[epoch 397/500] --> train loss: 1.35464, validation loss: 1.250657\n",
      "[epoch 398/500] --> train loss: 1.35374, validation loss: 1.250462\n",
      "[epoch 399/500] --> train loss: 1.35542, validation loss: 1.250549\n",
      "[epoch 400/500] --> train loss: 1.35434, validation loss: 1.250608\n",
      "[epoch 401/500] --> train loss: 1.35517, validation loss: 1.250631\n",
      "[epoch 402/500] --> train loss: 1.35386, validation loss: 1.250868\n",
      "[epoch 403/500] --> train loss: 1.35537, validation loss: 1.250714\n",
      "[epoch 404/500] --> train loss: 1.35459, validation loss: 1.250872\n",
      "[epoch 405/500] --> train loss: 1.35461, validation loss: 1.250950\n",
      "[epoch 406/500] --> train loss: 1.35471, validation loss: 1.250836\n",
      "[epoch 407/500] --> train loss: 1.35454, validation loss: 1.250987\n",
      "[epoch 408/500] --> train loss: 1.35503, validation loss: 1.250964\n",
      "[epoch 409/500] --> train loss: 1.35399, validation loss: 1.250792\n",
      "[epoch 410/500] --> train loss: 1.35534, validation loss: 1.250709\n",
      "[epoch 411/500] --> train loss: 1.35503, validation loss: 1.250732\n",
      "[epoch 412/500] --> train loss: 1.35407, validation loss: 1.250774\n",
      "[epoch 413/500] --> train loss: 1.35503, validation loss: 1.250691\n",
      "[epoch 414/500] --> train loss: 1.35487, validation loss: 1.250719\n",
      "[epoch 415/500] --> train loss: 1.35390, validation loss: 1.250773\n",
      "[epoch 416/500] --> train loss: 1.35536, validation loss: 1.250815\n",
      "[epoch 417/500] --> train loss: 1.35448, validation loss: 1.250828\n",
      "[epoch 418/500] --> train loss: 1.35513, validation loss: 1.250612\n",
      "[epoch 419/500] --> train loss: 1.35533, validation loss: 1.251041\n",
      "[epoch 420/500] --> train loss: 1.35491, validation loss: 1.250897\n",
      "[epoch 421/500] --> train loss: 1.35381, validation loss: 1.250508\n",
      "[epoch 422/500] --> train loss: 1.35498, validation loss: 1.250841\n",
      "[epoch 423/500] --> train loss: 1.35322, validation loss: 1.250680\n",
      "[epoch 424/500] --> train loss: 1.35711, validation loss: 1.250446\n",
      "[epoch 425/500] --> train loss: 1.35462, validation loss: 1.250570\n",
      "[epoch 426/500] --> train loss: 1.35483, validation loss: 1.250772\n",
      "[epoch 427/500] --> train loss: 1.35529, validation loss: 1.250492\n",
      "[epoch 428/500] --> train loss: 1.35491, validation loss: 1.250684\n",
      "[epoch 429/500] --> train loss: 1.35445, validation loss: 1.250826\n",
      "[epoch 430/500] --> train loss: 1.35545, validation loss: 1.250916\n",
      "[epoch 431/500] --> train loss: 1.35470, validation loss: 1.250827\n",
      "[epoch 432/500] --> train loss: 1.35416, validation loss: 1.250963\n",
      "[epoch 433/500] --> train loss: 1.35709, validation loss: 1.251096\n",
      "[epoch 434/500] --> train loss: 1.35454, validation loss: 1.250994\n",
      "[epoch 435/500] --> train loss: 1.35502, validation loss: 1.250574\n",
      "[epoch 436/500] --> train loss: 1.35537, validation loss: 1.250831\n",
      "[epoch 437/500] --> train loss: 1.35545, validation loss: 1.250623\n",
      "[epoch 438/500] --> train loss: 1.35660, validation loss: 1.250721\n",
      "[epoch 439/500] --> train loss: 1.35507, validation loss: 1.251309\n",
      "[epoch 440/500] --> train loss: 1.35411, validation loss: 1.250844\n",
      "[epoch 441/500] --> train loss: 1.35486, validation loss: 1.250797\n",
      "[epoch 442/500] --> train loss: 1.35513, validation loss: 1.250958\n",
      "[epoch 443/500] --> train loss: 1.35385, validation loss: 1.250761\n",
      "[epoch 444/500] --> train loss: 1.35513, validation loss: 1.250877\n",
      "[epoch 445/500] --> train loss: 1.35524, validation loss: 1.250892\n",
      "[epoch 446/500] --> train loss: 1.35402, validation loss: 1.250900\n",
      "[epoch 447/500] --> train loss: 1.35490, validation loss: 1.250677\n",
      "[epoch 448/500] --> train loss: 1.35483, validation loss: 1.250824\n",
      "[epoch 449/500] --> train loss: 1.35384, validation loss: 1.250730\n",
      "[epoch 450/500] --> train loss: 1.35499, validation loss: 1.250651\n",
      "[epoch 451/500] --> train loss: 1.35498, validation loss: 1.251170\n",
      "[epoch 452/500] --> train loss: 1.35470, validation loss: 1.251036\n",
      "[epoch 453/500] --> train loss: 1.35456, validation loss: 1.250580\n",
      "[epoch 454/500] --> train loss: 1.35510, validation loss: 1.250897\n",
      "[epoch 455/500] --> train loss: 1.35498, validation loss: 1.250839\n",
      "[epoch 456/500] --> train loss: 1.35566, validation loss: 1.250944\n",
      "[epoch 457/500] --> train loss: 1.35512, validation loss: 1.250653\n",
      "[epoch 458/500] --> train loss: 1.35471, validation loss: 1.250596\n",
      "[epoch 459/500] --> train loss: 1.35460, validation loss: 1.250485\n",
      "[epoch 460/500] --> train loss: 1.35322, validation loss: 1.250544\n",
      "[epoch 461/500] --> train loss: 1.35505, validation loss: 1.250634\n",
      "[epoch 462/500] --> train loss: 1.35453, validation loss: 1.251172\n",
      "[epoch 463/500] --> train loss: 1.35386, validation loss: 1.250778\n",
      "[epoch 464/500] --> train loss: 1.35427, validation loss: 1.250833\n",
      "[epoch 465/500] --> train loss: 1.35490, validation loss: 1.250713\n",
      "[epoch 466/500] --> train loss: 1.35504, validation loss: 1.250417\n",
      "[epoch 467/500] --> train loss: 1.35457, validation loss: 1.250940\n",
      "[epoch 468/500] --> train loss: 1.35544, validation loss: 1.251199\n",
      "[epoch 469/500] --> train loss: 1.35385, validation loss: 1.250858\n",
      "[epoch 470/500] --> train loss: 1.35697, validation loss: 1.250806\n",
      "[epoch 471/500] --> train loss: 1.35386, validation loss: 1.250896\n",
      "[epoch 472/500] --> train loss: 1.35515, validation loss: 1.250864\n",
      "[epoch 473/500] --> train loss: 1.35385, validation loss: 1.250709\n",
      "[epoch 474/500] --> train loss: 1.35506, validation loss: 1.250644\n",
      "[epoch 475/500] --> train loss: 1.35475, validation loss: 1.250570\n",
      "[epoch 476/500] --> train loss: 1.35475, validation loss: 1.250619\n",
      "[epoch 477/500] --> train loss: 1.35327, validation loss: 1.250643\n",
      "[epoch 478/500] --> train loss: 1.35433, validation loss: 1.250643\n",
      "[epoch 479/500] --> train loss: 1.35471, validation loss: 1.250797\n",
      "[epoch 480/500] --> train loss: 1.35467, validation loss: 1.250752\n",
      "[epoch 481/500] --> train loss: 1.35513, validation loss: 1.250506\n",
      "[epoch 482/500] --> train loss: 1.35389, validation loss: 1.250913\n",
      "[epoch 483/500] --> train loss: 1.35444, validation loss: 1.250567\n",
      "[epoch 484/500] --> train loss: 1.35439, validation loss: 1.250866\n",
      "[epoch 485/500] --> train loss: 1.35386, validation loss: 1.250722\n",
      "[epoch 486/500] --> train loss: 1.35390, validation loss: 1.250658\n",
      "[epoch 487/500] --> train loss: 1.35541, validation loss: 1.250912\n",
      "[epoch 488/500] --> train loss: 1.35389, validation loss: 1.250957\n",
      "[epoch 489/500] --> train loss: 1.35529, validation loss: 1.250817\n",
      "[epoch 490/500] --> train loss: 1.35461, validation loss: 1.250992\n",
      "[epoch 491/500] --> train loss: 1.35453, validation loss: 1.250932\n",
      "[epoch 492/500] --> train loss: 1.35487, validation loss: 1.250943\n",
      "[epoch 493/500] --> train loss: 1.35460, validation loss: 1.250940\n",
      "[epoch 494/500] --> train loss: 1.35384, validation loss: 1.250611\n",
      "[epoch 495/500] --> train loss: 1.35373, validation loss: 1.250975\n",
      "[epoch 496/500] --> train loss: 1.35688, validation loss: 1.250686\n",
      "[epoch 497/500] --> train loss: 1.35486, validation loss: 1.250643\n",
      "[epoch 498/500] --> train loss: 1.35479, validation loss: 1.250966\n",
      "[epoch 499/500] --> train loss: 1.35375, validation loss: 1.250439\n",
      "[epoch 500/500] --> train loss: 1.35314, validation loss: 1.250452\n"
     ]
    }
   ],
   "source": [
    "num_epochs = 500\n",
    "learning_rate = 0.001\n",
    "\n",
    "model = DrumTransformer().to(device)\n",
    "criterion = nn.BCEWithLogitsLoss(pos_weight=pos_weight)\n",
    "optimizer = optim.Adam(model.parameters(), lr=learning_rate, amsgrad=True)\n",
    "\n",
    "best_validation_loss = np.inf\n",
    "for epoch in range(1, num_epochs + 1):\n",
    "    model.train()\n",
    "    epoch_loss = []\n",
    "    \n",
    "    for X, y in train_dataloader:\n",
    "        X = X.to(device)\n",
    "        y = y.to(device)\n",
    "        outputs = model(X)\n",
    "\n",
    "        optimizer.zero_grad()\n",
    "        loss = criterion(outputs, y)\n",
    "        epoch_loss.append(loss.item())\n",
    "        loss.backward()\n",
    "        optimizer.step()\n",
    "    \n",
    "    train_loss = np.mean(epoch_loss)\n",
    "    validation_loss = evaluate(model, validation_dataloader, criterion)\n",
    "\n",
    "    if validation_loss < best_validation_loss:\n",
    "        print('Saving new best model...')\n",
    "        best_validation_loss = validation_loss\n",
    "        torch.save(model.state_dict(), 'transformer_model.ckpt')\n",
    "\n",
    "    print(f'[epoch {epoch}/{num_epochs}] --> train loss: {train_loss:.5f}, validation loss: {validation_loss:5f}')"
   ]
  },
  {
   "cell_type": "markdown",
   "metadata": {},
   "source": [
    "#### Checking validation metrics"
   ]
  },
  {
   "cell_type": "markdown",
   "metadata": {},
   "source": [
    "- We will compute the mean BPM of our whole dataset. This will guide us to tune the ``peak_pick`` algorithm.\n",
    "- Considering a sixthteen note as being our smallest rhythm figure, our ``peak_pick`` algorithm must have this distance between each note."
   ]
  },
  {
   "cell_type": "code",
   "execution_count": 16,
   "metadata": {},
   "outputs": [],
   "source": [
    "from scipy.signal import find_peaks"
   ]
  },
  {
   "cell_type": "code",
   "execution_count": 17,
   "metadata": {},
   "outputs": [
    {
     "name": "stderr",
     "output_type": "stream",
     "text": [
      "100%|██████████| 95/95 [00:11<00:00,  8.51it/s]"
     ]
    },
    {
     "name": "stdout",
     "output_type": "stream",
     "text": [
      "Mean tempo (BPM): 115.74726\n"
     ]
    },
    {
     "name": "stderr",
     "output_type": "stream",
     "text": [
      "\n"
     ]
    }
   ],
   "source": [
    "tempos = []\n",
    "\n",
    "for filename in tqdm(glob(ospj(BASEPATH, 'audio/*.wav'))):\n",
    "    wave, sr = librosa.load(filename, sr=SAMPLING_RATE)\n",
    "    tempos.append(librosa.feature.tempo(y=wave, sr=sr))\n",
    "    \n",
    "mean_tempo = np.mean(tempos)\n",
    "print(f'Mean tempo (BPM): {mean_tempo:.5f}')"
   ]
  },
  {
   "cell_type": "code",
   "execution_count": 18,
   "metadata": {},
   "outputs": [
    {
     "name": "stdout",
     "output_type": "stream",
     "text": [
      "Peak distance to be used: 5\n"
     ]
    }
   ],
   "source": [
    "tempo_of_sixthteen = (60 / mean_tempo) / 8\n",
    "peak_distance = librosa.time_to_frames(tempo_of_sixthteen, sr=SAMPLING_RATE)\n",
    "\n",
    "print('Peak distance to be used:', peak_distance)"
   ]
  },
  {
   "cell_type": "code",
   "execution_count": 19,
   "metadata": {},
   "outputs": [],
   "source": [
    "sigmoid = nn.Sigmoid()\n",
    "peak_picking_params = {'height': 0.85, 'distance': peak_distance}\n",
    "\n",
    "best_model = DrumTransformer().to(device)\n",
    "best_model.load_state_dict(torch.load('transformer_model.ckpt'))\n",
    "\n",
    "total_size = 0\n",
    "recall_scores = np.zeros(3)\n",
    "fmeasure_scores = np.zeros(3)\n",
    "precision_scores = np.zeros(3)\n",
    "\n",
    "best_model.eval()\n",
    "with torch.no_grad():\n",
    "    for X, y in validation_dataloader:\n",
    "        X = X.to(device)\n",
    "        y = y.to(device)\n",
    "\n",
    "        outputs = best_model(X)\n",
    "        y_numpy = y.detach().cpu().numpy()\n",
    "        probabilities = sigmoid(outputs).detach().cpu().numpy()\n",
    "\n",
    "        total_size += outputs.shape[0]\n",
    "        for batch_idx in range(outputs.shape[0]):        \n",
    "            for instrument in range(3):\n",
    "                reference_onsets = np.where(y_numpy[batch_idx, :, instrument])[0]\n",
    "                reference_onsets = librosa.frames_to_time(reference_onsets, sr=SAMPLING_RATE)\n",
    "\n",
    "                estimated_onsets = find_peaks(probabilities[0, :, instrument], **peak_picking_params)[0]\n",
    "                estimated_onsets = librosa.frames_to_time(estimated_onsets, sr=SAMPLING_RATE)\n",
    "\n",
    "                if len(reference_onsets) != 0 and len(estimated_onsets) != 0:\n",
    "                    metrics = mir_eval.onset.evaluate(reference_onsets, estimated_onsets)\n",
    "                    recall_scores[instrument] += metrics['Recall']\n",
    "                    fmeasure_scores[instrument] += metrics['F-measure']\n",
    "                    precision_scores[instrument] += metrics['Precision']\n",
    "\n",
    "recall_scores /= total_size\n",
    "fmeasure_scores /= total_size\n",
    "precision_scores /= total_size"
   ]
  },
  {
   "cell_type": "code",
   "execution_count": 20,
   "metadata": {},
   "outputs": [
    {
     "name": "stdout",
     "output_type": "stream",
     "text": [
      "Hi-Hat metrics:\n",
      "  - Mean Recall: 0.000000\n",
      "  - Mean Precision: 0.000000\n",
      "  - Mean F-Measure: 0.000000\n",
      "\n",
      "Snare Drum metrics:\n",
      "  - Mean Recall: 0.000000\n",
      "  - Mean Precision: 0.000000\n",
      "  - Mean F-Measure: 0.000000\n",
      "\n",
      "Kick Drum metrics:\n",
      "  - Mean Recall: 0.000000\n",
      "  - Mean Precision: 0.000000\n",
      "  - Mean F-Measure: 0.000000\n",
      "\n",
      "Overall drumkit metrics:\n",
      "  - Mean Recall: 0.000000\n",
      "  - Mean Precision: 0.000000\n",
      "  - Mean F-Measure: 0.000000\n"
     ]
    }
   ],
   "source": [
    "for i, instrument in enumerate(['Hi-Hat', 'Snare Drum', 'Kick Drum']):\n",
    "    print(f'{instrument} metrics:')\n",
    "    print(f'  - Mean Recall: {recall_scores[i]:5f}')\n",
    "    print(f'  - Mean Precision: {precision_scores[i]:5f}')\n",
    "    print(f'  - Mean F-Measure: {fmeasure_scores[i]:5f}')\n",
    "    print()\n",
    "    \n",
    "print('Overall drumkit metrics:')\n",
    "print(f'  - Mean Recall: {np.mean(recall_scores):5f}')\n",
    "print(f'  - Mean Precision: {np.mean(precision_scores[i]):5f}')\n",
    "print(f'  - Mean F-Measure: {np.mean(fmeasure_scores[i]):5f}')"
   ]
  },
  {
   "cell_type": "code",
   "execution_count": 21,
   "metadata": {},
   "outputs": [],
   "source": [
    "import matplotlib.pyplot as plt\n",
    "\n",
    "y_numpy = y.detach().cpu().numpy()\n",
    "\n",
    "outputs = best_model(X.to(device))\n",
    "probabilities = sigmoid(outputs).detach().cpu().numpy()"
   ]
  },
  {
   "cell_type": "code",
   "execution_count": 22,
   "metadata": {},
   "outputs": [
    {
     "data": {
      "image/png": "[encoded data removed]",
      "text/plain": [
       "<Figure size 640x480 with 3 Axes>"
      ]
     },
     "metadata": {},
     "output_type": "display_data"
    }
   ],
   "source": [
    "instrument = 0\n",
    "fig, axs = plt.subplots(3, 1, sharex=True)\n",
    "\n",
    "axs[0].set_title('Hi-Hat activations')\n",
    "axs[0].set_ylabel('Probabilities')\n",
    "axs[1].set_ylabel('Predictions')\n",
    "axs[2].set_ylabel('Ground-Truth')\n",
    "\n",
    "estimated_onsets = find_peaks(probabilities[0, :, instrument], **peak_picking_params)[0]\n",
    "\n",
    "axs[0].plot(probabilities[0, :, instrument])\n",
    "\n",
    "for onset in estimated_onsets:\n",
    "    axs[1].axvline(onset)\n",
    "    \n",
    "axs[2].plot(y_numpy[0, :, instrument])\n",
    "\n",
    "fig.tight_layout()"
   ]
  },
  {
   "cell_type": "code",
   "execution_count": 23,
   "metadata": {},
   "outputs": [
    {
     "data": {
      "image/png": "[encoded data removed]",
      "text/plain": [
       "<Figure size 640x480 with 3 Axes>"
      ]
     },
     "metadata": {},
     "output_type": "display_data"
    }
   ],
   "source": [
    "instrument = 1\n",
    "fig, axs = plt.subplots(3, 1, sharex=True)\n",
    "\n",
    "axs[0].set_title('Snare activations')\n",
    "axs[0].set_ylabel('Probabilities')\n",
    "axs[1].set_ylabel('Predictions')\n",
    "axs[2].set_ylabel('Ground-Truth')\n",
    "\n",
    "estimated_onsets = find_peaks(probabilities[0, :, instrument], **peak_picking_params)[0]\n",
    "\n",
    "axs[0].plot(probabilities[0, :, instrument])\n",
    "\n",
    "for onset in estimated_onsets:\n",
    "    axs[1].axvline(onset)\n",
    "    \n",
    "axs[2].plot(y_numpy[0, :, instrument])\n",
    "\n",
    "fig.tight_layout()"
   ]
  },
  {
   "cell_type": "code",
   "execution_count": 24,
   "metadata": {},
   "outputs": [
    {
     "data": {
      "image/png": "[encoded data removed]",
      "text/plain": [
       "<Figure size 640x480 with 3 Axes>"
      ]
     },
     "metadata": {},
     "output_type": "display_data"
    }
   ],
   "source": [
    "instrument = 2\n",
    "fig, axs = plt.subplots(3, 1, sharex=True)\n",
    "\n",
    "axs[0].set_title('Kick activations')\n",
    "axs[0].set_ylabel('Probabilities')\n",
    "axs[1].set_ylabel('Predictions')\n",
    "axs[2].set_ylabel('Ground-Truth')\n",
    "\n",
    "estimated_onsets = find_peaks(probabilities[0, :, instrument], **peak_picking_params)[0]\n",
    "\n",
    "axs[0].plot(probabilities[0, :, instrument])\n",
    "\n",
    "for onset in estimated_onsets:\n",
    "    axs[1].axvline(onset)\n",
    "    \n",
    "axs[2].plot(y_numpy[0, :, instrument])\n",
    "\n",
    "fig.tight_layout()"
   ]
  },
  {
   "cell_type": "code",
   "execution_count": null,
   "metadata": {},
   "outputs": [],
   "source": []
  }
 ],
 "metadata": {
  "kernelspec": {
   "display_name": "harmony",
   "language": "python",
   "name": "harmony"
  },
  "language_info": {
   "codemirror_mode": {
    "name": "ipython",
    "version": 3
   },
   "file_extension": ".py",
   "mimetype": "text/x-python",
   "name": "python",
   "nbconvert_exporter": "python",
   "pygments_lexer": "ipython3",
   "version": "3.10.13"
  }
 },
 "nbformat": 4,
 "nbformat_minor": 4
}
